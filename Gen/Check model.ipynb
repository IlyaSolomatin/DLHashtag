{
 "cells": [
  {
   "cell_type": "markdown",
   "metadata": {
    "deletable": true,
    "editable": true
   },
   "source": [
    "## LSTM!!!"
   ]
  },
  {
   "cell_type": "code",
   "execution_count": 2,
   "metadata": {
    "collapsed": false,
    "deletable": true,
    "editable": true
   },
   "outputs": [],
   "source": [
    "#from __future__ import print_function\n",
    "from keras.models import Sequential\n",
    "from keras.layers import Dense, Activation, Dropout\n",
    "from keras.layers import LSTM\n",
    "from keras.optimizers import RMSprop, Adadelta, Adam\n",
    "from keras.utils.data_utils import get_file\n",
    "import numpy as np\n",
    "import random\n",
    "import sys"
   ]
  },
  {
   "cell_type": "code",
   "execution_count": 3,
   "metadata": {
    "collapsed": false,
    "deletable": true,
    "editable": true
   },
   "outputs": [
    {
     "name": "stdout",
     "output_type": "stream",
     "text": [
      "('corpus length:', 896291)\n",
      "('total chars:', 40)\n"
     ]
    }
   ],
   "source": [
    "text = open('datasetV2twplustag').read().lower()#open('BigData').read().lower()\n",
    "print('corpus length:', len(text))\n",
    "\n",
    "chars = sorted(list(set(text)))\n",
    "print('total chars:', len(chars))\n",
    "char_indices = dict((c, i) for i, c in enumerate(chars))\n",
    "indices_char = dict((i, c) for i, c in enumerate(chars))"
   ]
  },
  {
   "cell_type": "code",
   "execution_count": 4,
   "metadata": {
    "collapsed": true,
    "deletable": true,
    "editable": true
   },
   "outputs": [],
   "source": [
    "with open('datasetV2twplustag') as f: #open('BigData') as f:\n",
    "    content = f.readlines()\n",
    "# you may also want to remove whitespace characters like `\\n` at the end of each line\n",
    "f = [x.strip().lower() for x in content] \n",
    "\n",
    "end = []\n",
    "vri = []\n",
    "for i in range(len(content)):\n",
    "    end.append(content[i].index('['))\n",
    "    vri.append(content[i].index(']')-content[i].index('[')+1)\n",
    "    content[i] = content[i][:-1].lower()\n",
    "    \n",
    "sentences = content"
   ]
  },
  {
   "cell_type": "code",
   "execution_count": 5,
   "metadata": {
    "collapsed": false,
    "deletable": true,
    "editable": true
   },
   "outputs": [
    {
     "name": "stdout",
     "output_type": "stream",
     "text": [
      "(128049, 144, 40)\n"
     ]
    }
   ],
   "source": [
    "maxlen = len(max(content, key=len))\n",
    "\n",
    "X = np.zeros((sum(vri), maxlen, len(chars)), dtype=np.bool)\n",
    "y = np.zeros((sum(vri), len(chars)), dtype=np.bool)\n",
    "\n",
    "for i, sentence in enumerate(sentences):\n",
    "    k = sum(vri[:i])-i\n",
    "    for j in range(1, vri[i]):\n",
    "        for t, char in enumerate(sentence[:-j]):\n",
    "            X[k+j-1, t+(maxlen-len(sentence[:-j])), char_indices[char]] = 1\n",
    "        y[k+j-1, char_indices[sentence[-j]]] = 1\n",
    "\n",
    "#X = np.zeros((sum(vri), maxlen, len(chars)), dtype=np.bool)\n",
    "#y = np.zeros((sum(vri), len(chars)), dtype=np.bool)\n",
    "#for i, sentence in enumerate(sentences):\n",
    "#    for j in range(vri[i]):\n",
    "#        for t, char in enumerate(sentence[:-j]):\n",
    "#            X[i, t+(maxlen-len(sentence)+j), char_indices[char]] = 1\n",
    "#        y[i, char_indices[sentence[-j]]] = 1\n",
    "        \n",
    "print X.shape"
   ]
  },
  {
   "cell_type": "code",
   "execution_count": 6,
   "metadata": {
    "collapsed": false,
    "deletable": true,
    "editable": true
   },
   "outputs": [
    {
     "name": "stdout",
     "output_type": "stream",
     "text": [
      "Build model...\n"
     ]
    },
    {
     "name": "stderr",
     "output_type": "stream",
     "text": [
      "/home/user/anaconda2/lib/python2.7/site-packages/theano/compile/function_module.py:1474: UserWarning: You are creating a TensorVariable with float64 dtype. You requested an action via the Theano flag warn_float64={ignore,warn,raise,pdb}.\n",
      "  optimizer_profile = optimizer(fgraph)\n"
     ]
    }
   ],
   "source": [
    "print('Build model...')\n",
    "model = Sequential()\n",
    "\n",
    "model.add(LSTM(128, return_sequences=True, input_shape=(maxlen, len(chars))))\n",
    "model.add(Dropout(0.2))\n",
    "\n",
    "model.add(LSTM(128, return_sequences=True))\n",
    "model.add(Dropout(0.2))\n",
    "\n",
    "model.add(LSTM(128))\n",
    "model.add(Dropout(0.2))\n",
    "\n",
    "model.add(Dense(len(chars)))\n",
    "model.add(Activation('softmax'))\n",
    "\n",
    "optimizer = RMSprop(lr=0.01, decay=1e-6)\n",
    "model.compile(loss='categorical_crossentropy', optimizer=optimizer)\n"
   ]
  },
  {
   "cell_type": "code",
   "execution_count": null,
   "metadata": {
    "collapsed": false,
    "deletable": true,
    "editable": true
   },
   "outputs": [
    {
     "name": "stdout",
     "output_type": "stream",
     "text": [
      "()\n",
      "--------------------------------------------------------------------------------\n",
      "('Iteration', 0)\n",
      "Epoch 1/1"
     ]
    }
   ],
   "source": [
    "for iteration in range(10):\n",
    "    print()\n",
    "    print('-' * 80)\n",
    "    print('Iteration', iteration)\n",
    "    model.fit(X, y,\n",
    "              batch_size=256,\n",
    "              epochs=1)\n",
    "\n",
    "    start_index = random.randint(0, len(text) - maxlen - 1)\n",
    "\n",
    "    "
   ]
  },
  {
   "cell_type": "code",
   "execution_count": 43,
   "metadata": {
    "collapsed": true,
    "deletable": true,
    "editable": true
   },
   "outputs": [],
   "source": [
    "def sample(preds, temperature=1.0):\n",
    "    # helper function to sample an index from a probability array\n",
    "    preds = np.asarray(preds).astype('float32')\n",
    "    preds = np.log(preds) / temperature\n",
    "    exp_preds = np.exp(preds)\n",
    "    preds = exp_preds / np.sum(exp_preds)\n",
    "    choices = range(len(preds))##new\n",
    "    \n",
    "    #probas = np.random.multinomial(1, preds, 1)\n",
    "    \n",
    "    return np.random.choice(choices, p=preds) #np.argmax(probas)"
   ]
  },
  {
   "cell_type": "code",
   "execution_count": 48,
   "metadata": {
    "collapsed": false,
    "deletable": true,
    "editable": true
   },
   "outputs": [
    {
     "name": "stdout",
     "output_type": "stream",
     "text": [
      "('diversity:', 0.2)\n",
      "Generating with seed:\n",
      "\"feel good feel strong happy and grateful for training session today thank you god for everything [\"\n",
      "real hashtag: [mufc]\n",
      "generated hashtag: []\n",
      "\n",
      "\n",
      "('diversity:', 0.5)\n",
      "Generating with seed:\n",
      "\"feel good feel strong happy and grateful for training session today thank you god for everything [\"\n",
      "real hashtag: [mufc]\n",
      "generated hashtag: []\n",
      "\n",
      "\n",
      "('diversity:', 1.0)\n",
      "Generating with seed:\n",
      "\"feel good feel strong happy and grateful for training session today thank you god for everything [\"\n",
      "real hashtag: [mufc]\n",
      "generated hashtag: [mckdm3]\n",
      "\n",
      "\n",
      "('diversity:', 1.3)\n",
      "Generating with seed:\n",
      "\"feel good feel strong happy and grateful for training session today thank you god for everything [\"\n",
      "real hashtag: [mufc]\n",
      "generated hashtag: []\n",
      "\n",
      "\n",
      "('diversity:', 1.5)\n",
      "Generating with seed:\n",
      "\"feel good feel strong happy and grateful for training session today thank you god for everything [\"\n",
      "real hashtag: [mufc]\n",
      "generated hashtag: [cyfugxh4]\n",
      "\n",
      "\n"
     ]
    }
   ],
   "source": [
    "tn = 2\n",
    "for diversity in [0.2, 0.5, 1.0, 1.3, 1.5]:\n",
    "    print('diversity:', diversity)\n",
    "\n",
    "    generated = ''\n",
    "    sentence = content[tn][:end[tn]+1]#text[start_index: start_index + maxlen]\n",
    "    generated += sentence\n",
    "    generated += '['\n",
    "    print 'Generating with seed:\\n\"' + sentence[:] +'\"'\n",
    "    print 'real hashtag: ' + content[tn][end[tn]:]\n",
    "    #print 'generated hashtag: ['\n",
    "    #sys.stdout.write(generated+'\\n[')\n",
    "    sys.stdout.write('generated hashtag: [')\n",
    "    \n",
    "    for i in range(400):\n",
    "        x = np.zeros((1, maxlen, len(chars)))\n",
    "        for t, char in enumerate(sentence):\n",
    "            x[0, t, char_indices[char]] = 1.\n",
    "\n",
    "        preds = model.predict(x, verbose=0)[0]\n",
    "        next_index = sample(preds, diversity)\n",
    "        next_char = indices_char[next_index]\n",
    "\n",
    "        generated += next_char\n",
    "        sentence = sentence[1:] + next_char\n",
    "        \n",
    "        \n",
    "        sys.stdout.write(next_char)\n",
    "        sys.stdout.flush()\n",
    "        \n",
    "        if (next_char==']'):\n",
    "            break\n",
    "        \n",
    "    print '\\n', '\\n'"
   ]
  },
  {
   "cell_type": "code",
   "execution_count": 10,
   "metadata": {
    "collapsed": true,
    "deletable": true,
    "editable": true
   },
   "outputs": [],
   "source": [
    "model.save('modelKsmall168')"
   ]
  },
  {
   "cell_type": "code",
   "execution_count": null,
   "metadata": {
    "collapsed": true,
    "deletable": true,
    "editable": true
   },
   "outputs": [],
   "source": []
  },
  {
   "cell_type": "code",
   "execution_count": null,
   "metadata": {
    "collapsed": true,
    "deletable": true,
    "editable": true
   },
   "outputs": [],
   "source": [
    "print len(vri)\n",
    "print sum(vri)"
   ]
  },
  {
   "cell_type": "code",
   "execution_count": null,
   "metadata": {
    "collapsed": true,
    "deletable": true,
    "editable": true
   },
   "outputs": [],
   "source": [
    "print max(content, key=len)"
   ]
  },
  {
   "cell_type": "code",
   "execution_count": null,
   "metadata": {
    "collapsed": true,
    "deletable": true,
    "editable": true
   },
   "outputs": [],
   "source": [
    "print('Vectorization...')\n",
    "X = np.zeros((len(sentences), maxlen, len(chars)), dtype=np.bool)\n",
    "y = np.zeros((len(sentences), len(chars)), dtype=np.bool)\n",
    "for i, sentence in enumerate(sentences):\n",
    "    for t, char in enumerate(sentence):\n",
    "        X[i, t, char_indices[char]] = 1\n",
    "    y[i, char_indices[next_chars[i]]] = 1\n"
   ]
  },
  {
   "cell_type": "code",
   "execution_count": null,
   "metadata": {
    "collapsed": true,
    "deletable": true,
    "editable": true
   },
   "outputs": [],
   "source": []
  },
  {
   "cell_type": "code",
   "execution_count": null,
   "metadata": {
    "collapsed": true,
    "deletable": true,
    "editable": true
   },
   "outputs": [],
   "source": []
  },
  {
   "cell_type": "code",
   "execution_count": null,
   "metadata": {
    "collapsed": true,
    "deletable": true,
    "editable": true
   },
   "outputs": [],
   "source": []
  },
  {
   "cell_type": "code",
   "execution_count": null,
   "metadata": {
    "collapsed": true,
    "deletable": true,
    "editable": true
   },
   "outputs": [],
   "source": []
  },
  {
   "cell_type": "code",
   "execution_count": null,
   "metadata": {
    "collapsed": true,
    "deletable": true,
    "editable": true
   },
   "outputs": [],
   "source": []
  }
 ],
 "metadata": {
  "kernelspec": {
   "display_name": "Python 2",
   "language": "python",
   "name": "python2"
  },
  "language_info": {
   "codemirror_mode": {
    "name": "ipython",
    "version": 2
   },
   "file_extension": ".py",
   "mimetype": "text/x-python",
   "name": "python",
   "nbconvert_exporter": "python",
   "pygments_lexer": "ipython2",
   "version": "2.7.12+"
  }
 },
 "nbformat": 4,
 "nbformat_minor": 2
}
